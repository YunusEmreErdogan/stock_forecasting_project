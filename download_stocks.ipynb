{
 "cells": [
  {
   "cell_type": "markdown",
   "metadata": {},
   "source": [
    "LIBRARIES"
   ]
  },
  {
   "cell_type": "code",
   "execution_count": 2,
   "metadata": {},
   "outputs": [],
   "source": [
    "# Provides ways to work with large multidimensional arrays\n",
    "import numpy as np \n",
    "# Allows for further data manipulation and analysis\n",
    "import pandas as pd\n",
    "from pandas_datareader import data as web # Reads stock data \n",
    "import matplotlib.pyplot as plt # Plotting\n",
    "import matplotlib.dates as mdates # Styling dates\n",
    "%matplotlib inline\n",
    "\n",
    "import datetime as dt # For defining dates\n",
    "import mplfinance as mpf # Matplotlib finance\n",
    "\n",
    "import time\n",
    "\n",
    "# Used to get data from a directory\n",
    "import os\n",
    "from os import listdir\n",
    "from os.path import isfile, join"
   ]
  },
  {
   "cell_type": "markdown",
   "metadata": {},
   "source": [
    "HANDLE NOT-DOWNLOADED STOCKS"
   ]
  },
  {
   "cell_type": "code",
   "execution_count": 3,
   "metadata": {},
   "outputs": [],
   "source": [
    "stocks_not_downloaded = []\n",
    "missing_stocks = []"
   ]
  },
  {
   "cell_type": "markdown",
   "metadata": {},
   "source": [
    "SAVE STOCK DATA TO CSV"
   ]
  },
  {
   "cell_type": "code",
   "execution_count": 4,
   "metadata": {},
   "outputs": [],
   "source": [
    "# Function that gets a dataframe by providing a ticker and starting date\n",
    "def save_to_csv_from_yahoo(folder, ticker, syear, smonth, sday, eyear, emonth, eday):\n",
    "    # Defines the time periods to use\n",
    "    start = dt.datetime(syear, smonth, sday)\n",
    "    end = dt.datetime(eyear, emonth, eday)\n",
    "    \n",
    "    try:\n",
    "        print(\"Get Data for : \", ticker)\n",
    "        # Reads data into a dataframe\n",
    "        df = web.DataReader(ticker, 'yahoo', start, end)['Adj Close']\n",
    "    \n",
    "        # Wait 10 seconds\n",
    "        #time.sleep(10)\n",
    "    \n",
    "        # Save data to a CSV file\n",
    "        df.to_csv(folder + ticker + '.csv')\n",
    "    except Exception as ex:\n",
    "        stocks_not_downloaded.append(ticker)\n",
    "        print(\"Couldn't Get Data for :\", ticker)"
   ]
  },
  {
   "cell_type": "markdown",
   "metadata": {},
   "source": [
    "CSV TO DATAFRAME"
   ]
  },
  {
   "cell_type": "code",
   "execution_count": 5,
   "metadata": {},
   "outputs": [],
   "source": [
    "# Reads a dataframe from the CSV file, changes index to date and returns it\n",
    "def get_stock_df_from_csv(folder, ticker):\n",
    "    \n",
    "    # Try to get the file and if it doesn't exist issue a warning\n",
    "    try:\n",
    "        df = pd.read_csv(folder + ticker + '.csv')\n",
    "    except FileNotFoundError:\n",
    "        print(\"File Doesn't Exist\")\n",
    "    else:\n",
    "        return df"
   ]
  },
  {
   "cell_type": "markdown",
   "metadata": {},
   "source": [
    "COLUMN RETURN"
   ]
  },
  {
   "cell_type": "code",
   "execution_count": 6,
   "metadata": {},
   "outputs": [],
   "source": [
    "def get_column_from_csv(file, col_name):\n",
    "    # Try to get the file and if it doesn't exist issue a warning\n",
    "    try:\n",
    "        df = pd.read_csv(file)\n",
    "    except FileNotFoundError:\n",
    "        print(\"File Doesn't Exist\")\n",
    "    else:\n",
    "        return df[col_name]"
   ]
  },
  {
   "cell_type": "markdown",
   "metadata": {},
   "source": [
    "TEST STOCK TICKERS"
   ]
  },
  {
   "cell_type": "code",
   "execution_count": 7,
   "metadata": {},
   "outputs": [
    {
     "data": {
      "text/plain": [
       "0          A\n",
       "1         AA\n",
       "2        AAL\n",
       "3       AAME\n",
       "4        AAN\n",
       "        ... \n",
       "3476    ZUMZ\n",
       "3477     ZUO\n",
       "3478    ZYNE\n",
       "3479    ZYXI\n",
       "3480    ZNGA\n",
       "Name: Ticker, Length: 3481, dtype: object"
      ]
     },
     "execution_count": 7,
     "metadata": {},
     "output_type": "execute_result"
    }
   ],
   "source": [
    "tickers = get_column_from_csv(\"C:/Users/yeerd/OneDrive/Masaüstü/stock_data/Wilshire-5000-Stocks.csv\", \"Ticker\")\n",
    "tickers\n",
    "\n"
   ]
  },
  {
   "cell_type": "markdown",
   "metadata": {},
   "source": [
    "TEST: DATA FOR 20 STOCKS"
   ]
  },
  {
   "cell_type": "code",
   "execution_count": 8,
   "metadata": {},
   "outputs": [
    {
     "name": "stdout",
     "output_type": "stream",
     "text": [
      "Get Data for :  A\n",
      "Get Data for :  AA\n",
      "Get Data for :  AAL\n",
      "Get Data for :  AAME\n",
      "Get Data for :  AAN\n",
      "Get Data for :  AAOI\n",
      "Get Data for :  AAON\n",
      "Get Data for :  AAP\n",
      "Get Data for :  AAPL\n",
      "Get Data for :  AAT\n",
      "Get Data for :  AAWW\n",
      "Get Data for :  AAXN\n",
      "Couldn't Get Data for : AAXN\n",
      "Get Data for :  ABBV\n",
      "Get Data for :  ABC\n",
      "Get Data for :  ABCB\n",
      "Get Data for :  ABEO\n",
      "Get Data for :  ABG\n",
      "Get Data for :  ABIO\n",
      "Get Data for :  ABM\n",
      "Get Data for :  ABMD\n",
      "Finished\n"
     ]
    }
   ],
   "source": [
    "# Folder used to store stock data\n",
    "folder = \"C:/Users/yeerd/OneDrive/Masaüstü/stock_data/Stock_List/\"\n",
    "\n",
    "for x in range(20):\n",
    "   save_to_csv_from_yahoo(folder, tickers[x], 2017, 1, 1, 2021, 8, 19)\n",
    "print(\"Finished\")"
   ]
  },
  {
   "cell_type": "markdown",
   "metadata": {},
   "source": [
    "TEST: NOT-DOWNLOADED STOCKS"
   ]
  },
  {
   "cell_type": "code",
   "execution_count": 9,
   "metadata": {},
   "outputs": [
    {
     "name": "stdout",
     "output_type": "stream",
     "text": [
      "Get Data for :  USCR\n",
      "Couldn't Get Data for : USCR\n",
      "Get Data for :  USEG\n",
      "Get Data for :  USFD\n",
      "Get Data for :  USLM\n",
      "Get Data for :  USM\n",
      "Get Data for :  USNA\n",
      "Get Data for :  USPH\n",
      "Get Data for :  USWS\n",
      "Get Data for :  USX\n",
      "Get Data for :  UTHR\n",
      "Finished\n"
     ]
    },
    {
     "data": {
      "text/plain": [
       "['AAXN', 'USCR']"
      ]
     },
     "execution_count": 9,
     "metadata": {},
     "output_type": "execute_result"
    }
   ],
   "source": [
    "for x in range(3000, 3010):\n",
    "      save_to_csv_from_yahoo(folder, tickers[x], 2017, 1, 1, 2021, 8, 19)\n",
    "print(\"Finished\")\n",
    "stocks_not_downloaded"
   ]
  },
  {
   "cell_type": "markdown",
   "metadata": {},
   "source": [
    "MISSING STOCKS-HANDLING"
   ]
  },
  {
   "cell_type": "code",
   "execution_count": 10,
   "metadata": {},
   "outputs": [
    {
     "data": {
      "text/plain": [
       "['AAXN', 'USCR']"
      ]
     },
     "execution_count": 10,
     "metadata": {},
     "output_type": "execute_result"
    }
   ],
   "source": [
    "missing_stocks=stocks_not_downloaded\n",
    "missing_stocks\n",
    "\n",
    "stocks_not_downloaded\n"
   ]
  }
 ],
 "metadata": {
  "interpreter": {
   "hash": "9bd32286bd4ed4bc6989fae06118bceb4d0b636a64e4b0ad6b4619e17e0687d2"
  },
  "kernelspec": {
   "display_name": "Python 3.9.6 64-bit",
   "language": "python",
   "name": "python3"
  },
  "language_info": {
   "codemirror_mode": {
    "name": "ipython",
    "version": 3
   },
   "file_extension": ".py",
   "mimetype": "text/x-python",
   "name": "python",
   "nbconvert_exporter": "python",
   "pygments_lexer": "ipython3",
   "version": "3.9.6"
  },
  "orig_nbformat": 4
 },
 "nbformat": 4,
 "nbformat_minor": 2
}
